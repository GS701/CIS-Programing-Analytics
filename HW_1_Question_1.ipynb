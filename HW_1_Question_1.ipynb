{
  "nbformat": 4,
  "nbformat_minor": 0,
  "metadata": {
    "colab": {
      "provenance": [],
      "authorship_tag": "ABX9TyMUUlAuPI2Rqnfhqu87FkUv"
    },
    "kernelspec": {
      "name": "python3",
      "display_name": "Python 3"
    },
    "language_info": {
      "name": "python"
    }
  },
  "cells": [
    {
      "cell_type": "code",
      "execution_count": null,
      "metadata": {
        "id": "G_IfZoxErG31"
      },
      "outputs": [],
      "source": [
        "import requests # requests is imported as it a vital component for the web scraping process, allowing the user to send http requests\n",
        "from bs4 import BeautifulSoup # BeautifulSoup is imported as it another vital component for the web scraping process, as it allows for\n",
        "# the extraction of specific data from web pages by parsing html"
      ]
    },
    {
      "cell_type": "code",
      "source": [
        "# The data_collection function takes a url as a parameter and returns a list named heights, the data collected\n",
        "def data_collection(url):\n",
        "  page = requests.get(url) # This sends a http get request to the url specified in the parameter and assigns the response to the variable named page\n",
        "  soup = BeautifulSoup(page.content, 'html.parser') # This parses the html content and stores the structured data to the variable named soup\n",
        "\n",
        "  data_heights = soup.find_all('td', class_ = 'height') # This searches the parsed html from variable soup and stores a list of the occurences of the speceifed tag and class atribute assigning it to the variable named data_heights\n",
        "\n",
        "  heights = [] # This creates an empty list named heights\n",
        "  for data_heights in data_heights: # This establishes a for loop and goes through each element of the list data_heights\n",
        "    heights.append(float(data_heights['data-sort'])) # This appends the the assocated value to the custom attribute from the list data_heights to the empty heights list\n",
        "\n",
        "  return heights # This returns the heights list now filled with the desired data"
      ],
      "metadata": {
        "id": "X7qr-t5uuAs8"
      },
      "execution_count": null,
      "outputs": []
    },
    {
      "cell_type": "code",
      "source": [
        "# The average function takes a parameter as a list of data and returns the value of the calculated the average rounded to the second decimal place\n",
        "def average(data_list):\n",
        "  avg = sum(data_list)/len(data_list) # This calculates the average of this specified list from parameter and assigns it to the variable named avg\n",
        "  return round(avg,2) # This returns the calculated average rounded to the second decimal place\n"
      ],
      "metadata": {
        "id": "wZwb7T6ZyXoT"
      },
      "execution_count": null,
      "outputs": []
    },
    {
      "cell_type": "code",
      "source": [
        "# The compare function takes four parameters the frist calculated average, the second calculated average, the name assocated to the first average, and lastly the name assocated to the second average\n",
        "# This function return no value, however, utilizing if and else statements it prints a specific statement depending on which condition is met\n",
        "def compare(average_1, average_2, Name_1, Name_2):\n",
        "  if average_1 > average_2: # This establish an if statement checking if the frist average is greater than the second average\n",
        "    print(f'{Name_1} has the greater average' ) # This prints a specefic statment uitlizing the third parameter the name associated with the first average when the if condition is met\n",
        "  else: # The else statment is used when the frist condition is false it allows for an alternative action to occur\n",
        "    print(f'{Name_2} has the greater average') # This prints a specefic statment uitlizing the fourth parameter the name associated with the second average when the else condition is met"
      ],
      "metadata": {
        "id": "JGbXKxZSoh9g"
      },
      "execution_count": null,
      "outputs": []
    },
    {
      "cell_type": "code",
      "source": [
        "men_swim_heights = data_collection(\"https://athletics.baruch.cuny.edu/sports/mens-swimming-and-diving/roster/2023-24?view=2\")\n",
        "# This assigns data collection function uitlizing the url for the men's swim team to the variable men_swim_heights effectively assigning the data collected to said variable\n",
        "print(men_swim_heights)\n",
        "# This prints the data collected from the assigned variable men_swim_heights, a list of all the heights in inches\n",
        "\n",
        "avg_men_swim = average(men_swim_heights)\n",
        "# This utilizes the average function using the variable created earlier that stores the needed data and assigns the the returned value to the variable named avg_men_swim\n",
        "print(f\"The average height for the men's swim team is {avg_men_swim}\")\n",
        "# This prints a statement utilizing the variable avg_men_swim"
      ],
      "metadata": {
        "colab": {
          "base_uri": "https://localhost:8080/"
        },
        "id": "IjO0Bewgvf20",
        "outputId": "39bdecda-ff0f-4744-e923-77014dd2cc88"
      },
      "execution_count": null,
      "outputs": [
        {
          "output_type": "stream",
          "name": "stdout",
          "text": [
            "[73.0, 75.0, 71.0, 76.0, 68.0, 70.0, 69.0, 69.0, 76.0, 72.0, 69.0, 70.0, 69.0, 67.0, 71.0, 68.0, 71.0, 72.0, 68.0]\n",
            "The average height for the men's swim team is 70.74\n"
          ]
        }
      ]
    },
    {
      "cell_type": "code",
      "source": [
        "men_volleyball_heights = data_collection(\"https://athletics.baruch.cuny.edu/sports/mens-volleyball/roster?view=2\")\n",
        "# This assigns data collection function uitlizing the url for the men's volleyball team to the variable men_volleyball_heights effectively assigning the data collected to said variable\n",
        "print(men_volleyball_heights)\n",
        "# This prints the data collected from the assigned variable men_volleyball_heights, a list of all the heights in inches\n",
        "\n",
        "avg_men_volleyball = average(men_volleyball_heights)\n",
        "# This utilizes the average function using the variable created earlier that stores the needed data and assigns the the returned value to the variable named avg_men_volleyball\n",
        "print(f\"The average height for the men's volleyball team is {avg_men_volleyball}\")\n",
        "# This prints a statement utilizing the variable avg_men_volleyball"
      ],
      "metadata": {
        "colab": {
          "base_uri": "https://localhost:8080/"
        },
        "id": "cW5JOHv0viAm",
        "outputId": "1b1d45b0-2060-4164-9ae0-4f33a5e4a82a"
      },
      "execution_count": null,
      "outputs": [
        {
          "output_type": "stream",
          "name": "stdout",
          "text": [
            "[69.0, 75.0, 73.0, 76.0, 73.0, 71.0, 76.0, 72.0, 69.0, 72.0, 67.0, 70.0, 69.0, 77.0, 74.0, 73.0]\n",
            "The average height for the men's volleyball team is 72.25\n"
          ]
        }
      ]
    },
    {
      "cell_type": "code",
      "source": [
        "women_swim_heights = data_collection(\"https://athletics.baruch.cuny.edu/sports/womens-swimming-and-diving/roster/2023-24?view=2\")\n",
        "# This assigns data collection function uitlizing the url for the women's swim team to the variable women_swim_heights effectively assigning the data collected to said variable\n",
        "print(women_swim_heights)\n",
        "# This prints the data collected from the assigned variable women_swim_heights, a list of all the heights in inches\n",
        "\n",
        "avg_women_swim = average(women_swim_heights)\n",
        "# This utilizes the average function using the variable created earlier that stores the needed data and assigns the the returned value to the variable named avg_women_swim\n",
        "print(f\"The average height for the women's swim team is {avg_women_swim}\")\n",
        "# This prints a statement utilizing the variable avg_women_swim"
      ],
      "metadata": {
        "colab": {
          "base_uri": "https://localhost:8080/"
        },
        "id": "0-1pwWDevjsZ",
        "outputId": "e0a7e938-db68-45d9-9f9e-95c7b9724534"
      },
      "execution_count": null,
      "outputs": [
        {
          "output_type": "stream",
          "name": "stdout",
          "text": [
            "[70.0, 63.0, 62.0, 68.0, 63.0, 65.0, 63.0, 67.0, 66.0, 65.0, 62.0, 58.0]\n",
            "The average height for the women's swim team is 64.33\n"
          ]
        }
      ]
    },
    {
      "cell_type": "code",
      "source": [
        "women__volleyball_heights = data_collection(\"https://athletics.baruch.cuny.edu/sports/womens-volleyball/roster?view=2\")\n",
        "# This assigns data collection function uitlizing the url for the women's volleyball team to the variable women__volleyball_heights effectively assigning the data collected to said variable\n",
        "print(women__volleyball_heights)\n",
        "# This prints the data collected from the assigned variable women__volleyball_heights, a list of all the heights in inches\n",
        "\n",
        "avg_women_volleyball = average(women__volleyball_heights)\n",
        "# This utilizes the average function using the variable created earlier that stores the needed data and assigns the the returned value to the variable named avg_women_volleyball\n",
        "print(f\"The average height for the women's volleyball team is {avg_women_volleyball}\")\n",
        "# This prints a statement utilizing the variable avg_women_volleyball"
      ],
      "metadata": {
        "colab": {
          "base_uri": "https://localhost:8080/"
        },
        "id": "rBPHyNkdvlcX",
        "outputId": "563aeabe-6ca2-4f74-a18c-861f7b347b56"
      },
      "execution_count": null,
      "outputs": [
        {
          "output_type": "stream",
          "name": "stdout",
          "text": [
            "[66.0, 65.0, 64.0, 67.0, 68.0, 68.0, 68.0, 71.0, 68.0, 64.0, 68.0, 66.0, 69.0]\n",
            "The average height for the women's volleyball team is 67.08\n"
          ]
        }
      ]
    },
    {
      "cell_type": "code",
      "source": [
        "compare(avg_men_volleyball, avg_men_swim, \"Men's Volleyball Team\", \"Men's Swim Team\")\n",
        "# This calls the compare function using the variables created earlier for the averages of heights for both male teams and the names associated with each average\n",
        "compare(avg_women_swim, avg_women_volleyball, \"Women's Swim Team\", \"Women's Volleyball Team\")\n",
        "# This calls the compare function using the variables created earlier for the averages of heights for both female teams and the names associated with each average"
      ],
      "metadata": {
        "colab": {
          "base_uri": "https://localhost:8080/"
        },
        "id": "mx5JzbSupkzW",
        "outputId": "32b72069-3b9e-472e-8b84-9b2418940c62"
      },
      "execution_count": null,
      "outputs": [
        {
          "output_type": "stream",
          "name": "stdout",
          "text": [
            "Men's Volleyball Team has the greater average\n",
            "Women's Volleyball Team has the greater average\n"
          ]
        }
      ]
    }
  ]
}