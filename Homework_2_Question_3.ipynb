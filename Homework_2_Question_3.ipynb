{
  "nbformat": 4,
  "nbformat_minor": 0,
  "metadata": {
    "colab": {
      "provenance": [],
      "authorship_tag": "ABX9TyNwihOE9O0cSum5VZC0dnYk"
    },
    "kernelspec": {
      "name": "python3",
      "display_name": "Python 3"
    },
    "language_info": {
      "name": "python"
    }
  },
  "cells": [
    {
      "cell_type": "code",
      "source": [
        "# Pandas is imported as it a vital component for dataframe creation as well as data analysis through dataframes\n",
        "import pandas as pd"
      ],
      "metadata": {
        "id": "uTZfq3-A1Zr0"
      },
      "execution_count": null,
      "outputs": []
    },
    {
      "cell_type": "code",
      "source": [
        "# The readoriginaldate function takes one parameter, the date string input from the user and prints the original date and return the date string\n",
        "def readoriginaldate(Date):\n",
        "   print(f'{Date} is the original date') # This prints the date string along with a statement\n",
        "\n",
        "   return Date"
      ],
      "metadata": {
        "id": "cxzJ4WGDlGy1"
      },
      "execution_count": null,
      "outputs": []
    },
    {
      "cell_type": "code",
      "source": [
        "# The breakoriginaldate function takes one parameter, the date string input from the user and prints a statements of the broken parts of the original date and returns a list of theses parts\n",
        "def breakoriginaldate(date):\n",
        "   seperated_date_lst = [] # Creates an empty list named seperated_date_lst\n",
        "   broken_date = date.split('/') # Assigns the variable named broken_date to a list of the original date string that had been split with the indicator of / as the seperator\n",
        "   for x in broken_date: # Creates a for loop to iterate over the the broken_date list\n",
        "      seperated_date_lst.append(x) # This appends each element to a new list\n",
        "   Month = broken_date[0] # Assigns the variable named Month to the frist index of the broken_date list\n",
        "   Day = broken_date[1] # Assigns the variable named Day to the second index of the broken_date list\n",
        "   Year = broken_date[2] # Assigns the variable named Year to the thrid index of the broken_date list\n",
        "\n",
        "   print(f'{Month} is the month   |   {Day} is the day   |   {Year} is the year') # Creates a statement utilizing each of the new established variables\n",
        "   return seperated_date_lst"
      ],
      "metadata": {
        "id": "oZCWR__BllUw"
      },
      "execution_count": null,
      "outputs": []
    },
    {
      "cell_type": "code",
      "source": [
        "# The function printdate3ways takes one parameter a list which holds the broken parts of the original date and prints statements that involves this information and returns a new list\n",
        "def printdate3ways(date_list):\n",
        "  all_types_of_dates = [] # Creates an empty list named all_types_of_dates\n",
        "  month_name = ['January', 'February', 'March', 'April', 'May', 'June', 'July', 'August', 'September', 'October', 'November', 'December'] # Creates a list with all the months of the year\n",
        "  Month = date_list[0] # Assigns the variable named Month to the frist index of the date_list parameter\n",
        "  Day = date_list[1] # Assigns the variable named Month to the second index of the date_list parameter\n",
        "  Year = date_list[2] # Assigns the variable named Month to the third index of the date_list parameter\n",
        "\n",
        "  if len(Month) == 1: # An If statement that checks if the number of items in the string of the Month variable is equal to one\n",
        "    Updated_Month = '0' + Month # If this condition is fulfilled it will combine the string of the Month variable with zero and assigns this new string to the variable of named Updated_Month\n",
        "  else: # Sets up an alternative path if the condition is not fulfilled\n",
        "    Updated_Month = Month # If that is the case the variable named Updated_Month is just assigned to the Month variable with no changes\n",
        "\n",
        "  if len(Day) == 1: # An If statement that checks if the number of items in the string of the Day variable is equal to one\n",
        "    Updated_Day = '0' + Day # If this condition is fulfilled it will combine the string of the Day variable with zero and assigns this new string to the variable of named Updated_Day\n",
        "  else: # Sets up an alternative path if the condition is not fulfilled\n",
        "    Updated_Day = Day # If that is the case the variable named Updated_Day is just assigned to the Day variable with no changes\n",
        "\n",
        "  european_date = f'{Day}-{Month}-{Year}' # Assigns the variable named european_date to a f-string that utilizes the broken parts of the original date and sets it up in a particular way\n",
        "  all_types_of_dates.append(european_date) # Appends the european_date variable to the all_types_of_dates list\n",
        "  american_date = f'{month_name[int(Month)-1]} {Day}, 20{Year}' # Assigns the variable named american_date to a f-string that utilizes the broken parts of the original date as well as uses the month_name list to get the desired month name along with combining a string variable at the end\n",
        "  all_types_of_dates.append(american_date) # Appends the american_date variable to the all_types_of_dates list\n",
        "  full_date = f'{Updated_Month}-{Updated_Day}-20{Year}' # Assigns the variable named full_date to a f-string that utilizes one of the broken parts of the original date as well as uses conditional new variables that were set up along with combining a string variable at the end\n",
        "  all_types_of_dates.append(full_date) # Appends the full_date variable to the all_types_of_dates list\n",
        "\n",
        "  print(f\"{european_date} is the European way of printing\") # This prints an f-string using the european_date variable in a statement\n",
        "  print(f\"{american_date} is the American way of printing\") # This prints an f-string using the american_date variable in a statement\n",
        "  print(f\"{full_date} is the full way of printing\") # This prints an f-string using the full_date variable in a statement\n",
        "\n",
        "  return all_types_of_dates"
      ],
      "metadata": {
        "id": "opIKekfpl3FA"
      },
      "execution_count": null,
      "outputs": []
    },
    {
      "cell_type": "code",
      "execution_count": null,
      "metadata": {
        "id": "8X9367v4k96x"
      },
      "outputs": [],
      "source": [
        "# The function main_function takes no parameters and does not return anything it\n",
        "def main_function():\n",
        "  original_lst = [] # Creates an empty list named original_lst\n",
        "  european_date = [] # Creates an empty list named european_date\n",
        "  american_date = [] # Creates an empty list named american_date\n",
        "  full_date = [] # Creates an empty list named full_date\n",
        "  month = [] # Creates an empty list named month\n",
        "  day = [] # Creates an empty list named day\n",
        "  year = [] # Creates an empty list named year\n",
        "  condition = True # Assigns the variable named condition to true\n",
        "  counter = 0 # Assigns the variable named counter equal to zero\n",
        "  while condition: # Creates a while loop set to the condition variable\n",
        "    counter += 1 # As it loops the counter is incremented by 1\n",
        "    for i in range(1): # Creates a for statement\n",
        "      date = input(\"Please enter a data in the following format M/dd/yy: \") # Prompts the user to input a date with a specific format and assigns it to a variable named date\n",
        "      Original_Date = readoriginaldate(date) # Calls the readoriginaldate function using the date variable as the parameter and assigns this to the variable named Original_Date\n",
        "      original_lst.append(Original_Date) # Appends the Original_Date variable to the list called original_lst\n",
        "      seperated_date = breakoriginaldate(date) # Calls the breakoriginaldate function using the date variable as the parameter and assigns this to the variable named seperated_date\n",
        "      Month = seperated_date[0] # Assigns the variable named Month to the frist index of seperated_date list\n",
        "      month.append(Month) # Appends the Month variable to the list called month\n",
        "      Day = seperated_date[1] # Assigns the variable named Day to the second index of the seperated_date list\n",
        "      day.append(Day) # Appends the Day variable to the list called day\n",
        "      Year = seperated_date[2] # Assigns the variable named Year to the thrid index of the broken_date list\n",
        "      year.append(Year) # Appends the Year variable to the list called year\n",
        "      all_types_of_dates = printdate3ways(seperated_date) # Calls the printdate3ways function using the seperated_date variable as the parameter and assigns this to the variable named all_types_of_dates\n",
        "      European = all_types_of_dates[0] # Assigns the variable named European to the frist index of all_types_of_dates\n",
        "      european_date.append(European) # Appends the European variable to the list called european_date\n",
        "      American = all_types_of_dates[1] # Assigns the variable named American to the second index of all_types_of_dates\n",
        "      american_date.append(American) # Appends the American variable to the list called american_date\n",
        "      Full = all_types_of_dates[2] # Assigns the variable named Full to the third index of all_types_of_dates\n",
        "      full_date.append(Full) # Appends the Full variable to the list called full_date\n",
        "      print('\\n' * 3) # print three new lines, as way to seperate the infromation\n",
        "\n",
        "    if counter == 10: # Checks if the value of the variable counter is equal to ten\n",
        "      condition = False # If this condition is fulfilled it will set the variable condition to false\n",
        "\n",
        " # This stablishes a dictionary named Date_Dict with keys representing the infromation the function gather that are in lists that were created earlier\n",
        "  Date_Dict = {\n",
        "               'Original_Date': original_lst,\n",
        "               'European Date': european_date,\n",
        "               'American Date': american_date,\n",
        "               'Full Date': full_date,\n",
        "               'Month': month,\n",
        "               'Day': day,\n",
        "               'Year': year\n",
        "               }\n",
        "  Dates = pd.DataFrame(Date_Dict) # Creates a dataframe named Dates with the dictionary named Date_Dict\n",
        "  Dates.to_csv('Dates.csv', index = False) # The dataframe df is exported into a csv file without the index\n"
      ]
    },
    {
      "cell_type": "code",
      "source": [
        "# This calls the main_function\n",
        "main_function()"
      ],
      "metadata": {
        "id": "97YDmrIu17t8",
        "colab": {
          "base_uri": "https://localhost:8080/"
        },
        "outputId": "92eabde3-f603-44a4-f7a7-08976d03402e"
      },
      "execution_count": null,
      "outputs": [
        {
          "output_type": "stream",
          "name": "stdout",
          "text": [
            "Please enter a data in the following format M/dd/yy: 5/15/23\n",
            "5/15/23 is the original date\n",
            "5 is the month   |   15 is the day   |   23 is the year\n",
            "15-5-23 is the European way of printing\n",
            "May 15, 2023 is the American way of printing\n",
            "05-15-2023 is the full way of printing\n",
            "\n",
            "\n",
            "\n",
            "\n",
            "Please enter a data in the following format M/dd/yy: 6/20/24\n",
            "6/20/24 is the original date\n",
            "6 is the month   |   20 is the day   |   24 is the year\n",
            "20-6-24 is the European way of printing\n",
            "June 20, 2024 is the American way of printing\n",
            "06-20-2024 is the full way of printing\n",
            "\n",
            "\n",
            "\n",
            "\n",
            "Please enter a data in the following format M/dd/yy: 9/13/26\n",
            "9/13/26 is the original date\n",
            "9 is the month   |   13 is the day   |   26 is the year\n",
            "13-9-26 is the European way of printing\n",
            "September 13, 2026 is the American way of printing\n",
            "09-13-2026 is the full way of printing\n",
            "\n",
            "\n",
            "\n",
            "\n",
            "Please enter a data in the following format M/dd/yy: 10/5/19\n",
            "10/5/19 is the original date\n",
            "10 is the month   |   5 is the day   |   19 is the year\n",
            "5-10-19 is the European way of printing\n",
            "October 5, 2019 is the American way of printing\n",
            "10-05-2019 is the full way of printing\n",
            "\n",
            "\n",
            "\n",
            "\n",
            "Please enter a data in the following format M/dd/yy: 11/9/17\n",
            "11/9/17 is the original date\n",
            "11 is the month   |   9 is the day   |   17 is the year\n",
            "9-11-17 is the European way of printing\n",
            "November 9, 2017 is the American way of printing\n",
            "11-09-2017 is the full way of printing\n",
            "\n",
            "\n",
            "\n",
            "\n",
            "Please enter a data in the following format M/dd/yy: 12/03/14\n",
            "12/03/14 is the original date\n",
            "12 is the month   |   03 is the day   |   14 is the year\n",
            "03-12-14 is the European way of printing\n",
            "December 03, 2014 is the American way of printing\n",
            "12-03-2014 is the full way of printing\n",
            "\n",
            "\n",
            "\n",
            "\n",
            "Please enter a data in the following format M/dd/yy: 9/4/30\n",
            "9/4/30 is the original date\n",
            "9 is the month   |   4 is the day   |   30 is the year\n",
            "4-9-30 is the European way of printing\n",
            "September 4, 2030 is the American way of printing\n",
            "09-04-2030 is the full way of printing\n",
            "\n",
            "\n",
            "\n",
            "\n",
            "Please enter a data in the following format M/dd/yy: 1/8/08\n",
            "1/8/08 is the original date\n",
            "1 is the month   |   8 is the day   |   08 is the year\n",
            "8-1-08 is the European way of printing\n",
            "January 8, 2008 is the American way of printing\n",
            "01-08-2008 is the full way of printing\n",
            "\n",
            "\n",
            "\n",
            "\n",
            "Please enter a data in the following format M/dd/yy: 3/3/09\n",
            "3/3/09 is the original date\n",
            "3 is the month   |   3 is the day   |   09 is the year\n",
            "3-3-09 is the European way of printing\n",
            "March 3, 2009 is the American way of printing\n",
            "03-03-2009 is the full way of printing\n",
            "\n",
            "\n",
            "\n",
            "\n",
            "Please enter a data in the following format M/dd/yy: 2/24/04\n",
            "2/24/04 is the original date\n",
            "2 is the month   |   24 is the day   |   04 is the year\n",
            "24-2-04 is the European way of printing\n",
            "February 24, 2004 is the American way of printing\n",
            "02-24-2004 is the full way of printing\n",
            "\n",
            "\n",
            "\n",
            "\n"
          ]
        }
      ]
    }
  ]
}