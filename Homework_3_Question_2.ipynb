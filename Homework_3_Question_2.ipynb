{
  "nbformat": 4,
  "nbformat_minor": 0,
  "metadata": {
    "colab": {
      "provenance": [],
      "authorship_tag": "ABX9TyM4Z72VfL+LBKWj+pCLO/DR"
    },
    "kernelspec": {
      "name": "python3",
      "display_name": "Python 3"
    },
    "language_info": {
      "name": "python"
    }
  },
  "cells": [
    {
      "cell_type": "code",
      "execution_count": null,
      "metadata": {
        "id": "cKRuf0ceDf1C"
      },
      "outputs": [],
      "source": [
        "# pandas is imported as it a vital component for dataframe creation and manipulation as well as data analysis through dataframes\n",
        "import pandas as pd\n",
        "# numpy is imported for its efficient numerical operations, especially for array-based calculations.\n",
        "import numpy as np"
      ]
    },
    {
      "cell_type": "code",
      "source": [
        "url = 'https://raw.githubusercontent.com/GS701/Stock-Price/refs/heads/main/stock_prices.csv' # The url link to the raw CSV data of stock prices assigned to the variable named url\n",
        "\n",
        "df = pd.read_csv(url) # This reads the CSV file data from url variable and creates a pandas DataFrame named df\n",
        "df # This displays the dataframe"
      ],
      "metadata": {
        "colab": {
          "base_uri": "https://localhost:8080/",
          "height": 424
        },
        "id": "X3NOqTPjDqiT",
        "outputId": "1505324c-98a8-43b1-b2a8-092256b6bcda"
      },
      "execution_count": null,
      "outputs": [
        {
          "output_type": "execute_result",
          "data": {
            "text/plain": [
              "           date       open        high        low      close  volume\n",
              "0    2020-01-01  50.394453  112.159087  47.824078  58.316595  115075\n",
              "1    2020-01-02  90.273902   99.698852  88.926503  96.766761  512977\n",
              "2    2020-01-03  77.248159  105.393199  28.067944  48.553732  450395\n",
              "3    2020-01-04  51.031976   53.739312  36.579756  49.657439  980011\n",
              "4    2020-01-05  87.205513   98.710825  61.199511  93.693236  658785\n",
              "..          ...        ...         ...        ...        ...     ...\n",
              "361  2020-12-27  85.995425  100.278403  55.966215  61.497026  601634\n",
              "362  2020-12-28  70.909435   79.791211  64.054180  65.801407  725662\n",
              "363  2020-12-29  81.494017   81.612481  30.471673  80.725766  814677\n",
              "364  2020-12-30  96.311069  105.651581  70.940701  82.412688  138687\n",
              "365  2020-12-31  62.243738  111.506840  62.057759  84.068467  904736\n",
              "\n",
              "[366 rows x 6 columns]"
            ],
            "text/html": [
              "\n",
              "  <div id=\"df-c102ba77-b328-4a73-a09e-a666329dda34\" class=\"colab-df-container\">\n",
              "    <div>\n",
              "<style scoped>\n",
              "    .dataframe tbody tr th:only-of-type {\n",
              "        vertical-align: middle;\n",
              "    }\n",
              "\n",
              "    .dataframe tbody tr th {\n",
              "        vertical-align: top;\n",
              "    }\n",
              "\n",
              "    .dataframe thead th {\n",
              "        text-align: right;\n",
              "    }\n",
              "</style>\n",
              "<table border=\"1\" class=\"dataframe\">\n",
              "  <thead>\n",
              "    <tr style=\"text-align: right;\">\n",
              "      <th></th>\n",
              "      <th>date</th>\n",
              "      <th>open</th>\n",
              "      <th>high</th>\n",
              "      <th>low</th>\n",
              "      <th>close</th>\n",
              "      <th>volume</th>\n",
              "    </tr>\n",
              "  </thead>\n",
              "  <tbody>\n",
              "    <tr>\n",
              "      <th>0</th>\n",
              "      <td>2020-01-01</td>\n",
              "      <td>50.394453</td>\n",
              "      <td>112.159087</td>\n",
              "      <td>47.824078</td>\n",
              "      <td>58.316595</td>\n",
              "      <td>115075</td>\n",
              "    </tr>\n",
              "    <tr>\n",
              "      <th>1</th>\n",
              "      <td>2020-01-02</td>\n",
              "      <td>90.273902</td>\n",
              "      <td>99.698852</td>\n",
              "      <td>88.926503</td>\n",
              "      <td>96.766761</td>\n",
              "      <td>512977</td>\n",
              "    </tr>\n",
              "    <tr>\n",
              "      <th>2</th>\n",
              "      <td>2020-01-03</td>\n",
              "      <td>77.248159</td>\n",
              "      <td>105.393199</td>\n",
              "      <td>28.067944</td>\n",
              "      <td>48.553732</td>\n",
              "      <td>450395</td>\n",
              "    </tr>\n",
              "    <tr>\n",
              "      <th>3</th>\n",
              "      <td>2020-01-04</td>\n",
              "      <td>51.031976</td>\n",
              "      <td>53.739312</td>\n",
              "      <td>36.579756</td>\n",
              "      <td>49.657439</td>\n",
              "      <td>980011</td>\n",
              "    </tr>\n",
              "    <tr>\n",
              "      <th>4</th>\n",
              "      <td>2020-01-05</td>\n",
              "      <td>87.205513</td>\n",
              "      <td>98.710825</td>\n",
              "      <td>61.199511</td>\n",
              "      <td>93.693236</td>\n",
              "      <td>658785</td>\n",
              "    </tr>\n",
              "    <tr>\n",
              "      <th>...</th>\n",
              "      <td>...</td>\n",
              "      <td>...</td>\n",
              "      <td>...</td>\n",
              "      <td>...</td>\n",
              "      <td>...</td>\n",
              "      <td>...</td>\n",
              "    </tr>\n",
              "    <tr>\n",
              "      <th>361</th>\n",
              "      <td>2020-12-27</td>\n",
              "      <td>85.995425</td>\n",
              "      <td>100.278403</td>\n",
              "      <td>55.966215</td>\n",
              "      <td>61.497026</td>\n",
              "      <td>601634</td>\n",
              "    </tr>\n",
              "    <tr>\n",
              "      <th>362</th>\n",
              "      <td>2020-12-28</td>\n",
              "      <td>70.909435</td>\n",
              "      <td>79.791211</td>\n",
              "      <td>64.054180</td>\n",
              "      <td>65.801407</td>\n",
              "      <td>725662</td>\n",
              "    </tr>\n",
              "    <tr>\n",
              "      <th>363</th>\n",
              "      <td>2020-12-29</td>\n",
              "      <td>81.494017</td>\n",
              "      <td>81.612481</td>\n",
              "      <td>30.471673</td>\n",
              "      <td>80.725766</td>\n",
              "      <td>814677</td>\n",
              "    </tr>\n",
              "    <tr>\n",
              "      <th>364</th>\n",
              "      <td>2020-12-30</td>\n",
              "      <td>96.311069</td>\n",
              "      <td>105.651581</td>\n",
              "      <td>70.940701</td>\n",
              "      <td>82.412688</td>\n",
              "      <td>138687</td>\n",
              "    </tr>\n",
              "    <tr>\n",
              "      <th>365</th>\n",
              "      <td>2020-12-31</td>\n",
              "      <td>62.243738</td>\n",
              "      <td>111.506840</td>\n",
              "      <td>62.057759</td>\n",
              "      <td>84.068467</td>\n",
              "      <td>904736</td>\n",
              "    </tr>\n",
              "  </tbody>\n",
              "</table>\n",
              "<p>366 rows × 6 columns</p>\n",
              "</div>\n",
              "    <div class=\"colab-df-buttons\">\n",
              "\n",
              "  <div class=\"colab-df-container\">\n",
              "    <button class=\"colab-df-convert\" onclick=\"convertToInteractive('df-c102ba77-b328-4a73-a09e-a666329dda34')\"\n",
              "            title=\"Convert this dataframe to an interactive table.\"\n",
              "            style=\"display:none;\">\n",
              "\n",
              "  <svg xmlns=\"http://www.w3.org/2000/svg\" height=\"24px\" viewBox=\"0 -960 960 960\">\n",
              "    <path d=\"M120-120v-720h720v720H120Zm60-500h600v-160H180v160Zm220 220h160v-160H400v160Zm0 220h160v-160H400v160ZM180-400h160v-160H180v160Zm440 0h160v-160H620v160ZM180-180h160v-160H180v160Zm440 0h160v-160H620v160Z\"/>\n",
              "  </svg>\n",
              "    </button>\n",
              "\n",
              "  <style>\n",
              "    .colab-df-container {\n",
              "      display:flex;\n",
              "      gap: 12px;\n",
              "    }\n",
              "\n",
              "    .colab-df-convert {\n",
              "      background-color: #E8F0FE;\n",
              "      border: none;\n",
              "      border-radius: 50%;\n",
              "      cursor: pointer;\n",
              "      display: none;\n",
              "      fill: #1967D2;\n",
              "      height: 32px;\n",
              "      padding: 0 0 0 0;\n",
              "      width: 32px;\n",
              "    }\n",
              "\n",
              "    .colab-df-convert:hover {\n",
              "      background-color: #E2EBFA;\n",
              "      box-shadow: 0px 1px 2px rgba(60, 64, 67, 0.3), 0px 1px 3px 1px rgba(60, 64, 67, 0.15);\n",
              "      fill: #174EA6;\n",
              "    }\n",
              "\n",
              "    .colab-df-buttons div {\n",
              "      margin-bottom: 4px;\n",
              "    }\n",
              "\n",
              "    [theme=dark] .colab-df-convert {\n",
              "      background-color: #3B4455;\n",
              "      fill: #D2E3FC;\n",
              "    }\n",
              "\n",
              "    [theme=dark] .colab-df-convert:hover {\n",
              "      background-color: #434B5C;\n",
              "      box-shadow: 0px 1px 3px 1px rgba(0, 0, 0, 0.15);\n",
              "      filter: drop-shadow(0px 1px 2px rgba(0, 0, 0, 0.3));\n",
              "      fill: #FFFFFF;\n",
              "    }\n",
              "  </style>\n",
              "\n",
              "    <script>\n",
              "      const buttonEl =\n",
              "        document.querySelector('#df-c102ba77-b328-4a73-a09e-a666329dda34 button.colab-df-convert');\n",
              "      buttonEl.style.display =\n",
              "        google.colab.kernel.accessAllowed ? 'block' : 'none';\n",
              "\n",
              "      async function convertToInteractive(key) {\n",
              "        const element = document.querySelector('#df-c102ba77-b328-4a73-a09e-a666329dda34');\n",
              "        const dataTable =\n",
              "          await google.colab.kernel.invokeFunction('convertToInteractive',\n",
              "                                                    [key], {});\n",
              "        if (!dataTable) return;\n",
              "\n",
              "        const docLinkHtml = 'Like what you see? Visit the ' +\n",
              "          '<a target=\"_blank\" href=https://colab.research.google.com/notebooks/data_table.ipynb>data table notebook</a>'\n",
              "          + ' to learn more about interactive tables.';\n",
              "        element.innerHTML = '';\n",
              "        dataTable['output_type'] = 'display_data';\n",
              "        await google.colab.output.renderOutput(dataTable, element);\n",
              "        const docLink = document.createElement('div');\n",
              "        docLink.innerHTML = docLinkHtml;\n",
              "        element.appendChild(docLink);\n",
              "      }\n",
              "    </script>\n",
              "  </div>\n",
              "\n",
              "\n",
              "<div id=\"df-b898cd4d-80ed-4a7d-8435-b4014edb459a\">\n",
              "  <button class=\"colab-df-quickchart\" onclick=\"quickchart('df-b898cd4d-80ed-4a7d-8435-b4014edb459a')\"\n",
              "            title=\"Suggest charts\"\n",
              "            style=\"display:none;\">\n",
              "\n",
              "<svg xmlns=\"http://www.w3.org/2000/svg\" height=\"24px\"viewBox=\"0 0 24 24\"\n",
              "     width=\"24px\">\n",
              "    <g>\n",
              "        <path d=\"M19 3H5c-1.1 0-2 .9-2 2v14c0 1.1.9 2 2 2h14c1.1 0 2-.9 2-2V5c0-1.1-.9-2-2-2zM9 17H7v-7h2v7zm4 0h-2V7h2v10zm4 0h-2v-4h2v4z\"/>\n",
              "    </g>\n",
              "</svg>\n",
              "  </button>\n",
              "\n",
              "<style>\n",
              "  .colab-df-quickchart {\n",
              "      --bg-color: #E8F0FE;\n",
              "      --fill-color: #1967D2;\n",
              "      --hover-bg-color: #E2EBFA;\n",
              "      --hover-fill-color: #174EA6;\n",
              "      --disabled-fill-color: #AAA;\n",
              "      --disabled-bg-color: #DDD;\n",
              "  }\n",
              "\n",
              "  [theme=dark] .colab-df-quickchart {\n",
              "      --bg-color: #3B4455;\n",
              "      --fill-color: #D2E3FC;\n",
              "      --hover-bg-color: #434B5C;\n",
              "      --hover-fill-color: #FFFFFF;\n",
              "      --disabled-bg-color: #3B4455;\n",
              "      --disabled-fill-color: #666;\n",
              "  }\n",
              "\n",
              "  .colab-df-quickchart {\n",
              "    background-color: var(--bg-color);\n",
              "    border: none;\n",
              "    border-radius: 50%;\n",
              "    cursor: pointer;\n",
              "    display: none;\n",
              "    fill: var(--fill-color);\n",
              "    height: 32px;\n",
              "    padding: 0;\n",
              "    width: 32px;\n",
              "  }\n",
              "\n",
              "  .colab-df-quickchart:hover {\n",
              "    background-color: var(--hover-bg-color);\n",
              "    box-shadow: 0 1px 2px rgba(60, 64, 67, 0.3), 0 1px 3px 1px rgba(60, 64, 67, 0.15);\n",
              "    fill: var(--button-hover-fill-color);\n",
              "  }\n",
              "\n",
              "  .colab-df-quickchart-complete:disabled,\n",
              "  .colab-df-quickchart-complete:disabled:hover {\n",
              "    background-color: var(--disabled-bg-color);\n",
              "    fill: var(--disabled-fill-color);\n",
              "    box-shadow: none;\n",
              "  }\n",
              "\n",
              "  .colab-df-spinner {\n",
              "    border: 2px solid var(--fill-color);\n",
              "    border-color: transparent;\n",
              "    border-bottom-color: var(--fill-color);\n",
              "    animation:\n",
              "      spin 1s steps(1) infinite;\n",
              "  }\n",
              "\n",
              "  @keyframes spin {\n",
              "    0% {\n",
              "      border-color: transparent;\n",
              "      border-bottom-color: var(--fill-color);\n",
              "      border-left-color: var(--fill-color);\n",
              "    }\n",
              "    20% {\n",
              "      border-color: transparent;\n",
              "      border-left-color: var(--fill-color);\n",
              "      border-top-color: var(--fill-color);\n",
              "    }\n",
              "    30% {\n",
              "      border-color: transparent;\n",
              "      border-left-color: var(--fill-color);\n",
              "      border-top-color: var(--fill-color);\n",
              "      border-right-color: var(--fill-color);\n",
              "    }\n",
              "    40% {\n",
              "      border-color: transparent;\n",
              "      border-right-color: var(--fill-color);\n",
              "      border-top-color: var(--fill-color);\n",
              "    }\n",
              "    60% {\n",
              "      border-color: transparent;\n",
              "      border-right-color: var(--fill-color);\n",
              "    }\n",
              "    80% {\n",
              "      border-color: transparent;\n",
              "      border-right-color: var(--fill-color);\n",
              "      border-bottom-color: var(--fill-color);\n",
              "    }\n",
              "    90% {\n",
              "      border-color: transparent;\n",
              "      border-bottom-color: var(--fill-color);\n",
              "    }\n",
              "  }\n",
              "</style>\n",
              "\n",
              "  <script>\n",
              "    async function quickchart(key) {\n",
              "      const quickchartButtonEl =\n",
              "        document.querySelector('#' + key + ' button');\n",
              "      quickchartButtonEl.disabled = true;  // To prevent multiple clicks.\n",
              "      quickchartButtonEl.classList.add('colab-df-spinner');\n",
              "      try {\n",
              "        const charts = await google.colab.kernel.invokeFunction(\n",
              "            'suggestCharts', [key], {});\n",
              "      } catch (error) {\n",
              "        console.error('Error during call to suggestCharts:', error);\n",
              "      }\n",
              "      quickchartButtonEl.classList.remove('colab-df-spinner');\n",
              "      quickchartButtonEl.classList.add('colab-df-quickchart-complete');\n",
              "    }\n",
              "    (() => {\n",
              "      let quickchartButtonEl =\n",
              "        document.querySelector('#df-b898cd4d-80ed-4a7d-8435-b4014edb459a button');\n",
              "      quickchartButtonEl.style.display =\n",
              "        google.colab.kernel.accessAllowed ? 'block' : 'none';\n",
              "    })();\n",
              "  </script>\n",
              "</div>\n",
              "\n",
              "  <div id=\"id_1cf4a676-ee2c-4ecd-8108-1991864d705f\">\n",
              "    <style>\n",
              "      .colab-df-generate {\n",
              "        background-color: #E8F0FE;\n",
              "        border: none;\n",
              "        border-radius: 50%;\n",
              "        cursor: pointer;\n",
              "        display: none;\n",
              "        fill: #1967D2;\n",
              "        height: 32px;\n",
              "        padding: 0 0 0 0;\n",
              "        width: 32px;\n",
              "      }\n",
              "\n",
              "      .colab-df-generate:hover {\n",
              "        background-color: #E2EBFA;\n",
              "        box-shadow: 0px 1px 2px rgba(60, 64, 67, 0.3), 0px 1px 3px 1px rgba(60, 64, 67, 0.15);\n",
              "        fill: #174EA6;\n",
              "      }\n",
              "\n",
              "      [theme=dark] .colab-df-generate {\n",
              "        background-color: #3B4455;\n",
              "        fill: #D2E3FC;\n",
              "      }\n",
              "\n",
              "      [theme=dark] .colab-df-generate:hover {\n",
              "        background-color: #434B5C;\n",
              "        box-shadow: 0px 1px 3px 1px rgba(0, 0, 0, 0.15);\n",
              "        filter: drop-shadow(0px 1px 2px rgba(0, 0, 0, 0.3));\n",
              "        fill: #FFFFFF;\n",
              "      }\n",
              "    </style>\n",
              "    <button class=\"colab-df-generate\" onclick=\"generateWithVariable('df')\"\n",
              "            title=\"Generate code using this dataframe.\"\n",
              "            style=\"display:none;\">\n",
              "\n",
              "  <svg xmlns=\"http://www.w3.org/2000/svg\" height=\"24px\"viewBox=\"0 0 24 24\"\n",
              "       width=\"24px\">\n",
              "    <path d=\"M7,19H8.4L18.45,9,17,7.55,7,17.6ZM5,21V16.75L18.45,3.32a2,2,0,0,1,2.83,0l1.4,1.43a1.91,1.91,0,0,1,.58,1.4,1.91,1.91,0,0,1-.58,1.4L9.25,21ZM18.45,9,17,7.55Zm-12,3A5.31,5.31,0,0,0,4.9,8.1,5.31,5.31,0,0,0,1,6.5,5.31,5.31,0,0,0,4.9,4.9,5.31,5.31,0,0,0,6.5,1,5.31,5.31,0,0,0,8.1,4.9,5.31,5.31,0,0,0,12,6.5,5.46,5.46,0,0,0,6.5,12Z\"/>\n",
              "  </svg>\n",
              "    </button>\n",
              "    <script>\n",
              "      (() => {\n",
              "      const buttonEl =\n",
              "        document.querySelector('#id_1cf4a676-ee2c-4ecd-8108-1991864d705f button.colab-df-generate');\n",
              "      buttonEl.style.display =\n",
              "        google.colab.kernel.accessAllowed ? 'block' : 'none';\n",
              "\n",
              "      buttonEl.onclick = () => {\n",
              "        google.colab.notebook.generateWithVariable('df');\n",
              "      }\n",
              "      })();\n",
              "    </script>\n",
              "  </div>\n",
              "\n",
              "    </div>\n",
              "  </div>\n"
            ],
            "application/vnd.google.colaboratory.intrinsic+json": {
              "type": "dataframe",
              "variable_name": "df",
              "summary": "{\n  \"name\": \"df\",\n  \"rows\": 366,\n  \"fields\": [\n    {\n      \"column\": \"date\",\n      \"properties\": {\n        \"dtype\": \"object\",\n        \"num_unique_values\": 366,\n        \"samples\": [\n          \"2020-07-12\",\n          \"2020-02-03\",\n          \"2020-01-16\"\n        ],\n        \"semantic_type\": \"\",\n        \"description\": \"\"\n      }\n    },\n    {\n      \"column\": \"open\",\n      \"properties\": {\n        \"dtype\": \"number\",\n        \"std\": 14.567336154052024,\n        \"min\": 50.014028881379794,\n        \"max\": 99.91751919715014,\n        \"num_unique_values\": 366,\n        \"samples\": [\n          73.14053184243413,\n          67.33891938981373,\n          66.8888692151007\n        ],\n        \"semantic_type\": \"\",\n        \"description\": \"\"\n      }\n    },\n    {\n      \"column\": \"high\",\n      \"properties\": {\n        \"dtype\": \"number\",\n        \"std\": 15.671251141297954,\n        \"min\": 52.53180097806391,\n        \"max\": 119.95517367899396,\n        \"num_unique_values\": 366,\n        \"samples\": [\n          81.92339066103122,\n          110.17608754027953,\n          105.9579269112628\n        ],\n        \"semantic_type\": \"\",\n        \"description\": \"\"\n      }\n    },\n    {\n      \"column\": \"low\",\n      \"properties\": {\n        \"dtype\": \"number\",\n        \"std\": 19.941602690688,\n        \"min\": 20.076133928917184,\n        \"max\": 98.82457453562398,\n        \"num_unique_values\": 366,\n        \"samples\": [\n          50.84355644625967,\n          51.86277810424264,\n          61.79931713612352\n        ],\n        \"semantic_type\": \"\",\n        \"description\": \"\"\n      }\n    },\n    {\n      \"column\": \"close\",\n      \"properties\": {\n        \"dtype\": \"number\",\n        \"std\": 20.803777223207533,\n        \"min\": 22.59894379649032,\n        \"max\": 116.0860165755245,\n        \"num_unique_values\": 366,\n        \"samples\": [\n          62.057232128705294,\n          86.84619169069026,\n          92.66917782988152\n        ],\n        \"semantic_type\": \"\",\n        \"description\": \"\"\n      }\n    },\n    {\n      \"column\": \"volume\",\n      \"properties\": {\n        \"dtype\": \"number\",\n        \"std\": 270080,\n        \"min\": 102959,\n        \"max\": 997578,\n        \"num_unique_values\": 365,\n        \"samples\": [\n          682461,\n          331717,\n          472388\n        ],\n        \"semantic_type\": \"\",\n        \"description\": \"\"\n      }\n    }\n  ]\n}"
            }
          },
          "metadata": {},
          "execution_count": 2
        }
      ]
    },
    {
      "cell_type": "code",
      "source": [
        "data_arrary = df.to_numpy() # This converts the df into a NumPy array and assigns it the variable named data_arrary\n",
        "data_arrary # This displays the array"
      ],
      "metadata": {
        "colab": {
          "base_uri": "https://localhost:8080/"
        },
        "id": "42MCM5S6D3Oe",
        "outputId": "50cacabf-bb9c-4160-b041-ee832866f696"
      },
      "execution_count": null,
      "outputs": [
        {
          "output_type": "execute_result",
          "data": {
            "text/plain": [
              "array([['2020-01-01', 50.39445300895235, 112.15908724477666,\n",
              "        47.82407767546033, 58.31659535282343, 115075],\n",
              "       ['2020-01-02', 90.27390230550672, 99.69885223772616,\n",
              "        88.92650314863666, 96.76676138826748, 512977],\n",
              "       ['2020-01-03', 77.24815850067199, 105.39319914689132,\n",
              "        28.067943534467595, 48.55373222826968, 450395],\n",
              "       ...,\n",
              "       ['2020-12-29', 81.49401702793509, 81.61248072049023,\n",
              "        30.47167310175988, 80.72576633653766, 814677],\n",
              "       ['2020-12-30', 96.31106910981497, 105.65158095529856,\n",
              "        70.94070073750092, 82.41268753473075, 138687],\n",
              "       ['2020-12-31', 62.24373835509027, 111.50683965112184,\n",
              "        62.05775859109581, 84.06846690668621, 904736]], dtype=object)"
            ]
          },
          "metadata": {},
          "execution_count": 3
        }
      ]
    },
    {
      "cell_type": "code",
      "source": [
        "close_arrary = data_arrary[:, 4] # This indexes data_arrary to get data from the close column and assigns it to variable named close_arrary\n",
        "close_highest = np.max(close_arrary) # This gets the max value of from the new indexed array and assigned this value to the variable named close_highest\n",
        "print(f'The highest closing price of the stock = {round(close_highest, 2)}') # This prints a statement using the collected information and also rounds the variable close_highest to the second decimal point"
      ],
      "metadata": {
        "colab": {
          "base_uri": "https://localhost:8080/"
        },
        "id": "2QbmjvaiEmzg",
        "outputId": "f641dfc1-907a-4fcf-a819-574458be39ab"
      },
      "execution_count": null,
      "outputs": [
        {
          "output_type": "stream",
          "name": "stdout",
          "text": [
            "The highest closing price of the stock = 116.09\n"
          ]
        }
      ]
    },
    {
      "cell_type": "code",
      "source": [
        "date_close_highest = data_arrary[close_arrary == close_highest][0][0] # This finds the date in data_arrary corresponding to the highest closing price and assigns it to the variable date_close_highest.\n",
        "print(f'The date corresponding to the highest closing price of the stock = {date_close_highest}') # This prints a statement using the collected information"
      ],
      "metadata": {
        "colab": {
          "base_uri": "https://localhost:8080/"
        },
        "id": "JidCR9o1FbEp",
        "outputId": "727a4e3c-f4fc-4b7f-c312-818dac50f8fb"
      },
      "execution_count": null,
      "outputs": [
        {
          "output_type": "stream",
          "name": "stdout",
          "text": [
            "The date corresponding to the highest closing price of the stock = 2020-03-01\n"
          ]
        }
      ]
    },
    {
      "cell_type": "code",
      "source": [
        "volume_arrary = data_arrary[:, 5] # This indexes data_arrary to get data from the volume column and assigns it to variable named volume_arrary\n",
        "avg_volume = np.mean(volume_arrary) # This gets the average of the data from the new indexed array and assigned this value to the variable named avg_volume\n",
        "print(f'The average daily trading volume of the stock = {round(avg_volume, 2)}') # This prints a statement using the collected information and also rounds the variable avg_volume to the second decimal point"
      ],
      "metadata": {
        "id": "W_4aKM4cGV0y",
        "colab": {
          "base_uri": "https://localhost:8080/"
        },
        "outputId": "dc81c7c2-faa2-4361-b5d7-ff9ab7628e83"
      },
      "execution_count": null,
      "outputs": [
        {
          "output_type": "stream",
          "name": "stdout",
          "text": [
            "The average daily trading volume of the stock = 558026.13\n"
          ]
        }
      ]
    },
    {
      "cell_type": "code",
      "source": [
        "volume_stdev = np.std(volume_arrary) # This gets the standard deviation of the data from the  indexed array and assigned this value to the variable named volume_stdev\n",
        "print(f'The standard deviation of the daily trading volume of the stock = {round(volume_stdev, 2)}') # This prints a statement using the collected information and also rounds the variable volume_stdev to the second decimal point"
      ],
      "metadata": {
        "colab": {
          "base_uri": "https://localhost:8080/"
        },
        "id": "3rUWQMfLGwIG",
        "outputId": "7139e45b-8214-4e78-e6b6-fbf5092e4ac5"
      },
      "execution_count": null,
      "outputs": [
        {
          "output_type": "stream",
          "name": "stdout",
          "text": [
            "The standard deviation of the daily trading volume of the stock = 269710.99\n"
          ]
        }
      ]
    },
    {
      "cell_type": "code",
      "source": [
        "open_arrary = data_arrary[:, 1] # This indexes data_arrary to get data from the open column and assigns it to variable named open_arrary\n",
        "open_close = close_arrary > open_arrary # This compares the closing price array with the opening price array, creating a boolean array where True indicates days when the closing price was higher than the opening price and assigns this to the variable named open_close\n",
        "higher_close_days = np.sum(open_close) # This calculates the total number of days where the closing price was higher than the opening price by getting the sum of the True values in the open_close array and assigns the value to the variable named higher_close_days\n",
        "print(f'No. of higher close price days = {higher_close_days}') # This prints a statement using the collected information"
      ],
      "metadata": {
        "colab": {
          "base_uri": "https://localhost:8080/"
        },
        "id": "r7C6kja4QGed",
        "outputId": "b8c2970e-2540-40f6-d6d1-54081a7fd9e0"
      },
      "execution_count": null,
      "outputs": [
        {
          "output_type": "stream",
          "name": "stdout",
          "text": [
            "No. of higher close price days = 180\n"
          ]
        }
      ]
    },
    {
      "cell_type": "code",
      "source": [
        "data_arrary.shape[0] # This retrieves the total number of rows in the data_arrary\n",
        "higher_close_percentage = higher_close_days / data_arrary.shape[0] * 100 # This calculates the percentage of days where the closing price was higher than the opening price by dividing the number of higher close days by the total number of days and multiplying by 100 and assigns this value to the variable named higher_close_percentage\n",
        "print(f'Higher close price percentage = {round(higher_close_percentage, 2)}%') # This prints a statement using the collected information and also rounds the variable higher_close_percentage to the second decimal point"
      ],
      "metadata": {
        "colab": {
          "base_uri": "https://localhost:8080/"
        },
        "id": "FEe9UG0ARq2b",
        "outputId": "48b94e30-a2c0-4ae1-8976-78728f5a5051"
      },
      "execution_count": null,
      "outputs": [
        {
          "output_type": "stream",
          "name": "stdout",
          "text": [
            "Higher close price percentage = 49.18%\n"
          ]
        }
      ]
    }
  ]
}