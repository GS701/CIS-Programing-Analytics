{
  "nbformat": 4,
  "nbformat_minor": 0,
  "metadata": {
    "colab": {
      "provenance": [],
      "authorship_tag": "ABX9TyNYBUuo6jJ/hz6F5inBKnM3"
    },
    "kernelspec": {
      "name": "python3",
      "display_name": "Python 3"
    },
    "language_info": {
      "name": "python"
    }
  },
  "cells": [
    {
      "cell_type": "code",
      "source": [
        "import json # json is imported to collect the integers utilized as data and into a json file"
      ],
      "metadata": {
        "id": "Yyjoa6gPS3yb"
      },
      "execution_count": null,
      "outputs": []
    },
    {
      "cell_type": "code",
      "source": [
        "# The introduction function does not take any parameters nor does it return a value,\n",
        "# when called it prints a string to introduce the program\n",
        "def introduction():\n",
        "  print(\"This program takes three integers from the user, calculates their average, and compares each integer to the average,\\n\"\n",
        "  \"determining whether the integers are above, below, or equal to their average. It prints all this information. The repeats\\n\"\n",
        "  \"until the user enters a special combination of integers where the sum equals the average, at which point the program ends and\\n\"\n",
        "  \"displays the total number of sets entered, lastly, the program gathers all the integers entered during its duration and stores\\n\"\n",
        "  \"them in a JSON file. Created by Gerardo Sandoval. \\n\"\n",
        "  \"\\n\")\n"
      ],
      "metadata": {
        "id": "8yIjYBc-xbpS"
      },
      "execution_count": null,
      "outputs": []
    },
    {
      "cell_type": "code",
      "source": [
        "# The findaverage function takes a parameter as a list and calculates the average of the three integers\n",
        "# values from the list and returns the average as a float\n",
        "def findaverage(total):\n",
        "  average = sum(total) / len(total)\n",
        "  return float(average)"
      ],
      "metadata": {
        "id": "Uot8F8RE2FgJ"
      },
      "execution_count": null,
      "outputs": []
    },
    {
      "cell_type": "code",
      "source": [
        "# The comparetoaverage function takes two parameters a list of the integers that had been inputed by the user and\n",
        "# a value the average that had been calculated as the function goes through the list and comparing it to average\n",
        "# printing those statments\n",
        "def comparetoaverage(total, average):\n",
        "  count_average = 0\n",
        "  for i in total:\n",
        "    if i > average:\n",
        "      print(i, \"is above\")\n",
        "    elif i < average:\n",
        "      print(i, \"is below\")\n",
        "    else:\n",
        "      print(i, \"is equal\")\n",
        "      count_average += 1\n",
        "  if count_average >= 0:\n",
        "    print(count_average, \"value equal to the average\")"
      ],
      "metadata": {
        "id": "mN6de4Vp3Ua4"
      },
      "execution_count": null,
      "outputs": []
    },
    {
      "cell_type": "code",
      "execution_count": null,
      "metadata": {
        "id": "3h7AszpKwjMa"
      },
      "outputs": [],
      "source": [
        "# The Main_Function does not take any parameters nor does it return a value, rather it sets up a\n",
        "# program that accept inputs, calls previous functions and store values into a file\n",
        "def Main_Function():\n",
        "  introduction() # This calls the introduction function to print the introduction for the program\n",
        "  total = [] # This creates an empty list named total for later use\n",
        "  data = [] # This creates an empty list named data for later use\n",
        "  counter = 0 # This assigns the variable named counter to the value of 0\n",
        "  special_combination = True # This creates a boolean variable assigned to true to set up the while loop\n",
        "  while special_combination: # This creates a loop to run as long as boolean variable remains true\n",
        "    counter += 1 # This increments the counter variable by the value of one each time the while statement loops\n",
        "    for i in range(3): # This creates a for loop inside the while loop to make sure three integers are collected at a time\n",
        "      integers = float(input(\"Write an integer values: \")) # This askes the user to input the integer desired as a float and assigns it to the variable, integers\n",
        "      total.append(integers) # This appends the inputs into the empty list named total\n",
        "    print(\"The three original integers are:\", *total) # Now outside the for loop this prints the three integers from the total list naming them, however, still remaining inside the while loop\n",
        "    average = findaverage(total) # This calls the findaverage function taking the list total as its parameter and assigns it the variable, average\n",
        "    print(\"The average is\", average) # This prints what the average is\n",
        "    comparetoaverage(total, average) # This calls the comparetoaverage function taking the total list as the frist parameter and the variable, average as the second parameter\n",
        "    data.append(total) # This appends the total list into the empty list named data\n",
        "    if sum(total) == average: # This is the special combination it checks if the total lists, the collected integers sum is equal to the average\n",
        "      special_combination = False # if so then boolean variable continue while is assigned to false stopping the while loop from continuing\n",
        "    total = [] # This resets the total list to an empty list for when while loop continues so the code runs smoothly\n",
        "    print(\"---------------------------------------------------------------------\") # This prints effectively a thematic break to sperate the text each time it loops in the while statement\n",
        "    if counter == 1: # This checks when the counter variable has incremented to 1\n",
        "      print('\\n' * 4) # This create four empty lines\n",
        "\n",
        "  print(f'{counter} sets of three data values were entered and processed') # Now outside the while loop this prints the amount of times the while statment has looped using the counter variable to check how many sets of values were processed\n",
        "\n",
        "  with open('data.json', 'w') as f: # This creates a file named data.json in 'write' mode\n",
        "    json.dump(data, f) # This effectively takes the data list and puts it into the created file"
      ]
    },
    {
      "cell_type": "code",
      "source": [
        "Main_Function()"
      ],
      "metadata": {
        "colab": {
          "base_uri": "https://localhost:8080/"
        },
        "id": "oLWnWxxW24Cl",
        "outputId": "681aa215-dea1-47e8-c961-4cd31678a795"
      },
      "execution_count": null,
      "outputs": [
        {
          "output_type": "stream",
          "name": "stdout",
          "text": [
            "This program takes three integers from the user, calculates their average, and compares each integer to the average,\n",
            "determining whether the integers are above, below, or equal to their average. It prints all this information. The repeats\n",
            "until the user enters a special combination of integers where the sum equals the average, at which point the program ends and\n",
            "displays the total number of sets entered, lastly, the program gathers all the integers entered during its duration and stores\n",
            "them in a JSON file. Created by Gerardo Sandoval. \n",
            "\n",
            "\n",
            "Write an integer values: 1\n",
            "Write an integer values: 2\n",
            "Write an integer values: 3\n",
            "The three original integers are: 1.0 2.0 3.0\n",
            "The average is 2.0\n",
            "1.0 is below\n",
            "2.0 is equal\n",
            "3.0 is above\n",
            "1 value equal to the average\n",
            "---------------------------------------------------------------------\n",
            "\n",
            "\n",
            "\n",
            "\n",
            "\n",
            "Write an integer values: 15\n",
            "Write an integer values: 14\n",
            "Write an integer values: 13\n",
            "The three original integers are: 15.0 14.0 13.0\n",
            "The average is 14.0\n",
            "15.0 is above\n",
            "14.0 is equal\n",
            "13.0 is below\n",
            "1 value equal to the average\n",
            "---------------------------------------------------------------------\n",
            "Write an integer values: 22\n",
            "Write an integer values: 23\n",
            "Write an integer values: 24\n",
            "The three original integers are: 22.0 23.0 24.0\n",
            "The average is 23.0\n",
            "22.0 is below\n",
            "23.0 is equal\n",
            "24.0 is above\n",
            "1 value equal to the average\n",
            "---------------------------------------------------------------------\n",
            "Write an integer values: 96\n",
            "Write an integer values: 95\n",
            "Write an integer values: 97\n",
            "The three original integers are: 96.0 95.0 97.0\n",
            "The average is 96.0\n",
            "96.0 is equal\n",
            "95.0 is below\n",
            "97.0 is above\n",
            "1 value equal to the average\n",
            "---------------------------------------------------------------------\n",
            "Write an integer values: 11\n",
            "Write an integer values: 11\n",
            "Write an integer values: 11\n",
            "The three original integers are: 11.0 11.0 11.0\n",
            "The average is 11.0\n",
            "11.0 is equal\n",
            "11.0 is equal\n",
            "11.0 is equal\n",
            "3 value equal to the average\n",
            "---------------------------------------------------------------------\n",
            "Write an integer values: 73\n",
            "Write an integer values: 73\n",
            "Write an integer values: 73\n",
            "The three original integers are: 73.0 73.0 73.0\n",
            "The average is 73.0\n",
            "73.0 is equal\n",
            "73.0 is equal\n",
            "73.0 is equal\n",
            "3 value equal to the average\n",
            "---------------------------------------------------------------------\n",
            "Write an integer values: 12\n",
            "Write an integer values: -2\n",
            "Write an integer values: 45\n",
            "The three original integers are: 12.0 -2.0 45.0\n",
            "The average is 18.333333333333332\n",
            "12.0 is below\n",
            "-2.0 is below\n",
            "45.0 is above\n",
            "0 value equal to the average\n",
            "---------------------------------------------------------------------\n",
            "Write an integer values: 23\n",
            "Write an integer values: 64.32\n",
            "Write an integer values: 12.22\n",
            "The three original integers are: 23.0 64.32 12.22\n",
            "The average is 33.18\n",
            "23.0 is below\n",
            "64.32 is above\n",
            "12.22 is below\n",
            "0 value equal to the average\n",
            "---------------------------------------------------------------------\n",
            "Write an integer values: 74\n",
            "Write an integer values: 2.1\n",
            "Write an integer values: 89.75\n",
            "The three original integers are: 74.0 2.1 89.75\n",
            "The average is 55.28333333333333\n",
            "74.0 is above\n",
            "2.1 is below\n",
            "89.75 is above\n",
            "0 value equal to the average\n",
            "---------------------------------------------------------------------\n",
            "Write an integer values: -1\n",
            "Write an integer values: 1\n",
            "Write an integer values: 0\n",
            "The three original integers are: -1.0 1.0 0.0\n",
            "The average is 0.0\n",
            "-1.0 is below\n",
            "1.0 is above\n",
            "0.0 is equal\n",
            "1 value equal to the average\n",
            "---------------------------------------------------------------------\n",
            "10 sets of three data values were entered and processed\n"
          ]
        }
      ]
    }
  ]
}